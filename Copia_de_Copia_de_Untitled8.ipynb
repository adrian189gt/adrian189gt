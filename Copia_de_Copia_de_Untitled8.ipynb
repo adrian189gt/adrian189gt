{
  "nbformat": 4,
  "nbformat_minor": 0,
  "metadata": {
    "colab": {
      "provenance": [],
      "authorship_tag": "ABX9TyOdsM1J4+2QFGENWtxZmaQ5",
      "include_colab_link": true
    },
    "kernelspec": {
      "name": "python3",
      "display_name": "Python 3"
    },
    "language_info": {
      "name": "python"
    }
  },
  "cells": [
    {
      "cell_type": "markdown",
      "metadata": {
        "id": "view-in-github",
        "colab_type": "text"
      },
      "source": [
        "<a href=\"https://colab.research.google.com/github/adrian189gt/adrian189gt/blob/main/Copia_de_Copia_de_Untitled8.ipynb\" target=\"_parent\"><img src=\"https://colab.research.google.com/assets/colab-badge.svg\" alt=\"Open In Colab\"/></a>"
      ]
    },
    {
      "cell_type": "code",
      "execution_count": null,
      "metadata": {
        "colab": {
          "base_uri": "https://localhost:8080/"
        },
        "id": "LBbqybEF-uZs",
        "outputId": "1eb50538-1236-4ee1-e9d3-e780f2810058"
      },
      "outputs": [
        {
          "output_type": "stream",
          "name": "stdout",
          "text": [
            "Requirement already satisfied: nacal in /usr/local/lib/python3.10/dist-packages (0.1.30)\n",
            "Requirement already satisfied: sympy>=1.1.0 in /usr/local/lib/python3.10/dist-packages (from nacal) (1.12)\n",
            "Requirement already satisfied: mpmath>=0.19 in /usr/local/lib/python3.10/dist-packages (from sympy>=1.1.0->nacal) (1.3.0)\n"
          ]
        }
      ],
      "source": [
        "!pip install --target=$nb_path nacal\n",
        "from nacal import *"
      ]
    },
    {
      "cell_type": "code",
      "source": [
        "A = Matrix([[1,0,0,0],[2,0,0,0],[0,3,3,3],[0,3,4,1],[0,1,2,1]])\n",
        "A"
      ],
      "metadata": {
        "colab": {
          "base_uri": "https://localhost:8080/",
          "height": 46
        },
        "id": "R2K6TKmk_KEx",
        "outputId": "c176973e-5568-4fa6-dba9-5c2cc40dfdee"
      },
      "execution_count": null,
      "outputs": [
        {
          "output_type": "execute_result",
          "data": {
            "text/plain": [
              "Matrix([Vector([1, 2, 0, 0, 0]), Vector([0, 0, 3, 3, 1]), Vector([0, 0, 3, 4, 2]), Vector([0, 0, 3, 1, 1])])"
            ],
            "text/html": [
              "<p style=\"text-align:center;\">$\\left[ \\begin{array}{cccc}1&0&0&0\\\\2&0&0&0\\\\0&3&3&3\\\\0&3&4&1\\\\0&1&2&1\\\\ \\end{array} \\right]$</p>"
            ],
            "image/png": "$\\left[ \\begin{array}{cccc}1&0&0&0\\\\2&0&0&0\\\\0&3&3&3\\\\0&3&4&1\\\\0&1&2&1\\\\ \\end{array} \\right]$",
            "text/latex": "$\\left[ \\begin{array}{cccc}1&0&0&0\\\\2&0&0&0\\\\0&3&3&3\\\\0&3&4&1\\\\0&1&2&1\\\\ \\end{array} \\right]$"
          },
          "metadata": {},
          "execution_count": 104
        }
      ]
    },
    {
      "cell_type": "markdown",
      "source": [
        "$\\left[ \\begin{array}{cccc}1&0&0&0\\\\2&0&0&0\\\\0&3&3&3\\\\0&3&4&1\\\\0&1&2&1\\\\ \\end{array} \\right]$"
      ],
      "metadata": {
        "id": "eSe0c63VAnP5"
      }
    },
    {
      "cell_type": "code",
      "source": [
        "A|1"
      ],
      "metadata": {
        "colab": {
          "base_uri": "https://localhost:8080/",
          "height": 46
        },
        "id": "uaNEnMfrFnXI",
        "outputId": "8a0711b4-6163-4dfb-eb75-cf20a39c9944"
      },
      "execution_count": null,
      "outputs": [
        {
          "output_type": "execute_result",
          "data": {
            "text/plain": [
              "Vector([1, 2, 0, 0, 0])"
            ],
            "text/html": [
              "<p style=\"text-align:center;\">$\\begin{pmatrix}1\\\\ 2\\\\ 0\\\\ 0\\\\ 0\\end{pmatrix}$</p>"
            ],
            "image/png": "$\\begin{pmatrix}1\\\\ 2\\\\ 0\\\\ 0\\\\ 0\\end{pmatrix}$",
            "text/latex": "$\\begin{pmatrix}1\\\\ 2\\\\ 0\\\\ 0\\\\ 0\\end{pmatrix}$"
          },
          "metadata": {},
          "execution_count": 105
        }
      ]
    },
    {
      "cell_type": "markdown",
      "source": [
        "$\\begin{pmatrix}1\\\\ 2\\\\ 0\\\\ 0\\\\ 0\\end{pmatrix}$"
      ],
      "metadata": {
        "id": "kxBbDKEBGRED"
      }
    },
    {
      "cell_type": "code",
      "source": [
        "A|2"
      ],
      "metadata": {
        "colab": {
          "base_uri": "https://localhost:8080/",
          "height": 46
        },
        "id": "EShVJ1vvGQZq",
        "outputId": "5ebbdfc4-9111-455b-838c-3450cac1aa5c"
      },
      "execution_count": null,
      "outputs": [
        {
          "output_type": "execute_result",
          "data": {
            "text/plain": [
              "Vector([0, 0, 3, 3, 1])"
            ],
            "text/html": [
              "<p style=\"text-align:center;\">$\\begin{pmatrix}0\\\\ 0\\\\ 3\\\\ 3\\\\ 1\\end{pmatrix}$</p>"
            ],
            "image/png": "$\\begin{pmatrix}0\\\\ 0\\\\ 3\\\\ 3\\\\ 1\\end{pmatrix}$",
            "text/latex": "$\\begin{pmatrix}0\\\\ 0\\\\ 3\\\\ 3\\\\ 1\\end{pmatrix}$"
          },
          "metadata": {},
          "execution_count": 106
        }
      ]
    },
    {
      "cell_type": "markdown",
      "source": [
        "$\\begin{pmatrix}0\\\\ 0\\\\ 3\\\\ 3\\\\ 1\\end{pmatrix}$"
      ],
      "metadata": {
        "id": "Vc7qFl_ZGp88"
      }
    },
    {
      "cell_type": "code",
      "source": [
        "1|A"
      ],
      "metadata": {
        "colab": {
          "base_uri": "https://localhost:8080/",
          "height": 46
        },
        "id": "hJz_W46OGsXD",
        "outputId": "4c2c4db6-b495-4220-de15-da497f0a357c"
      },
      "execution_count": null,
      "outputs": [
        {
          "output_type": "execute_result",
          "data": {
            "text/plain": [
              "Vector([1, 0, 0, 0])"
            ],
            "text/html": [
              "<p style=\"text-align:center;\">$\\begin{pmatrix}1,& 0,& 0,& 0,\\end{pmatrix}$</p>"
            ],
            "image/png": "$\\begin{pmatrix}1,& 0,& 0,& 0,\\end{pmatrix}$",
            "text/latex": "$\\begin{pmatrix}1,& 0,& 0,& 0,\\end{pmatrix}$"
          },
          "metadata": {},
          "execution_count": 107
        }
      ]
    },
    {
      "cell_type": "markdown",
      "source": [
        "$\\begin{pmatrix}1,& 0,& 0,& 0,\\end{pmatrix}$"
      ],
      "metadata": {
        "id": "8GSchkLUzaE2"
      }
    },
    {
      "cell_type": "code",
      "source": [
        "b = A|1\n",
        "c = A|2\n",
        "d = A|3\n",
        "e = A|4"
      ],
      "metadata": {
        "id": "W0G1VBxVfqZe"
      },
      "execution_count": null,
      "outputs": []
    },
    {
      "cell_type": "code",
      "source": [
        "A = b*(-3) + c*(2) + d*(3) + e*(-3)\n",
        "A"
      ],
      "metadata": {
        "colab": {
          "base_uri": "https://localhost:8080/",
          "height": 46
        },
        "id": "O33XUA0pgVmd",
        "outputId": "5cc0fb0a-cccc-4085-e76d-740453f44f4e"
      },
      "execution_count": null,
      "outputs": [
        {
          "output_type": "execute_result",
          "data": {
            "text/plain": [
              "Vector([3, 6, 24, 21, 11])"
            ],
            "text/html": [
              "<p style=\"text-align:center;\">$\\begin{pmatrix}3\\\\ 6\\\\ 24\\\\ 21\\\\ 11\\end{pmatrix}$</p>"
            ],
            "image/png": "$\\begin{pmatrix}3\\\\ 6\\\\ 24\\\\ 21\\\\ 11\\end{pmatrix}$",
            "text/latex": "$\\begin{pmatrix}3\\\\ 6\\\\ 24\\\\ 21\\\\ 11\\end{pmatrix}$"
          },
          "metadata": {},
          "execution_count": 131
        }
      ]
    },
    {
      "cell_type": "markdown",
      "source": [
        "$\\begin{pmatrix}3\\\\ 6\\\\ 24\\\\ 21\\\\ 11\\end{pmatrix}$"
      ],
      "metadata": {
        "id": "-HLyKQ2ziTLj"
      }
    },
    {
      "cell_type": "code",
      "source": [],
      "metadata": {
        "id": "d0jhoezTiSoR"
      },
      "execution_count": null,
      "outputs": []
    },
    {
      "cell_type": "markdown",
      "source": [
        "$\\begin{pmatrix}1,& 0,& 0,& 0,\\end{pmatrix}$"
      ],
      "metadata": {
        "id": "hadIaMpOG18u"
      }
    },
    {
      "cell_type": "code",
      "source": [
        "A = Matrix(([[1,0,0],[0,3,0],[0,0,-9]]))\n",
        "A"
      ],
      "metadata": {
        "colab": {
          "base_uri": "https://localhost:8080/",
          "height": 46
        },
        "id": "A03MA4bWXS7y",
        "outputId": "7fc0a974-4178-4e8c-9470-d532fc3c68c7"
      },
      "execution_count": null,
      "outputs": [
        {
          "output_type": "execute_result",
          "data": {
            "text/plain": [
              "Matrix([Vector([1, 0, 0]), Vector([0, 3, 0]), Vector([0, 0, -9])])"
            ],
            "text/html": [
              "<p style=\"text-align:center;\">$\\left[ \\begin{array}{ccc}1&0&0\\\\0&3&0\\\\0&0&-9\\\\ \\end{array} \\right]$</p>"
            ],
            "image/png": "$\\left[ \\begin{array}{ccc}1&0&0\\\\0&3&0\\\\0&0&-9\\\\ \\end{array} \\right]$",
            "text/latex": "$\\left[ \\begin{array}{ccc}1&0&0\\\\0&3&0\\\\0&0&-9\\\\ \\end{array} \\right]$"
          },
          "metadata": {},
          "execution_count": 54
        }
      ]
    },
    {
      "cell_type": "markdown",
      "source": [
        "$\\left[ \\begin{array}{ccc}1&0&0\\\\0&3&0\\\\0&0&-9\\\\ \\end{array} \\right]$"
      ],
      "metadata": {
        "id": "aEYga79eaLxR"
      }
    },
    {
      "cell_type": "code",
      "source": [
        "A = Matrix(([[3,0,-4],[0,2,6],[-4,6,1]]))\n",
        "A = Matrix(([[3,0,-4],[0,2,6],[-4,6,1]]))\n",
        "A"
      ],
      "metadata": {
        "colab": {
          "base_uri": "https://localhost:8080/",
          "height": 46
        },
        "id": "gffZHvMXakRT",
        "outputId": "daa9c873-b6d9-4a5f-d709-94dd68d8d4ce"
      },
      "execution_count": null,
      "outputs": [
        {
          "output_type": "execute_result",
          "data": {
            "text/plain": [
              "Matrix([Vector([3, 0, -4]), Vector([0, 2, 6]), Vector([-4, 6, 1])])"
            ],
            "text/html": [
              "<p style=\"text-align:center;\">$\\left[ \\begin{array}{ccc}3&0&-4\\\\0&2&6\\\\-4&6&1\\\\ \\end{array} \\right]$</p>"
            ],
            "image/png": "$\\left[ \\begin{array}{ccc}3&0&-4\\\\0&2&6\\\\-4&6&1\\\\ \\end{array} \\right]$",
            "text/latex": "$\\left[ \\begin{array}{ccc}3&0&-4\\\\0&2&6\\\\-4&6&1\\\\ \\end{array} \\right]$"
          },
          "metadata": {},
          "execution_count": 56
        }
      ]
    },
    {
      "cell_type": "markdown",
      "source": [
        "$\\left[ \\begin{array}{ccc}3&0&-4\\\\0&2&6\\\\-4&6&1\\\\ \\end{array} \\right]$\n"
      ],
      "metadata": {
        "id": "Jj20oDy_bPyJ"
      }
    },
    {
      "cell_type": "code",
      "source": [
        "C = Matrix([[7,9,9],[2,3,9],[0,5,0]])\n",
        "C"
      ],
      "metadata": {
        "colab": {
          "base_uri": "https://localhost:8080/",
          "height": 46
        },
        "id": "uZjGNUE1chyZ",
        "outputId": "9a80b826-2e2e-4cae-a8e1-096ed8f22389"
      },
      "execution_count": null,
      "outputs": [
        {
          "output_type": "execute_result",
          "data": {
            "text/plain": [
              "Matrix([Vector([7, 2, 0]), Vector([9, 3, 5]), Vector([9, 9, 0])])"
            ],
            "text/html": [
              "<p style=\"text-align:center;\">$\\left[ \\begin{array}{ccc}7&9&9\\\\2&3&9\\\\0&5&0\\\\ \\end{array} \\right]$</p>"
            ],
            "image/png": "$\\left[ \\begin{array}{ccc}7&9&9\\\\2&3&9\\\\0&5&0\\\\ \\end{array} \\right]$",
            "text/latex": "$\\left[ \\begin{array}{ccc}7&9&9\\\\2&3&9\\\\0&5&0\\\\ \\end{array} \\right]$"
          },
          "metadata": {},
          "execution_count": 62
        }
      ]
    },
    {
      "cell_type": "markdown",
      "source": [
        "$\\left[ \\begin{array}{ccc}7&9&9\\\\2&3&9\\\\0&5&0\\\\ \\end{array} \\right]$"
      ],
      "metadata": {
        "id": "b1Sk6O2OdNvM"
      }
    },
    {
      "cell_type": "code",
      "source": [
        "C = Matrix([[7,9,9],[2,3,9],[0,5,0]])\n",
        "A_transpuesta = ([[7,9,9],[2,3,9],[0,5,0]])\n",
        "b = A - C + C\n",
        "b"
      ],
      "metadata": {
        "colab": {
          "base_uri": "https://localhost:8080/",
          "height": 46
        },
        "id": "6zwFw5QndovS",
        "outputId": "42d5e96d-b4b0-4309-98b8-7ede60694c7e"
      },
      "execution_count": null,
      "outputs": [
        {
          "output_type": "execute_result",
          "data": {
            "text/plain": [
              "Matrix([Vector([3, 0, -4]), Vector([0, 2, 6]), Vector([-4, 6, 1])])"
            ],
            "text/html": [
              "<p style=\"text-align:center;\">$\\left[ \\begin{array}{ccc}3&0&-4\\\\0&2&6\\\\-4&6&1\\\\ \\end{array} \\right]$</p>"
            ],
            "image/png": "$\\left[ \\begin{array}{ccc}3&0&-4\\\\0&2&6\\\\-4&6&1\\\\ \\end{array} \\right]$",
            "text/latex": "$\\left[ \\begin{array}{ccc}3&0&-4\\\\0&2&6\\\\-4&6&1\\\\ \\end{array} \\right]$"
          },
          "metadata": {},
          "execution_count": 74
        }
      ]
    },
    {
      "cell_type": "markdown",
      "source": [
        "$\\left[ \\begin{array}{ccc}3&0&-4\\\\0&2&6\\\\-4&6&1\\\\ \\end{array} \\right]$"
      ],
      "metadata": {
        "id": "NWmrPlzCdoDp"
      }
    },
    {
      "cell_type": "code",
      "source": [
        "!pip install --target=$nb_path nacal\n",
        "from nacal import *"
      ],
      "metadata": {
        "colab": {
          "base_uri": "https://localhost:8080/"
        },
        "id": "j8wVn2rIkpG8",
        "outputId": "4d37be26-ceff-44e3-a740-858d6a6a0a26"
      },
      "execution_count": null,
      "outputs": [
        {
          "output_type": "stream",
          "name": "stdout",
          "text": [
            "Requirement already satisfied: nacal in /usr/local/lib/python3.10/dist-packages (0.1.30)\n",
            "Requirement already satisfied: sympy>=1.1.0 in /usr/local/lib/python3.10/dist-packages (from nacal) (1.12)\n",
            "Requirement already satisfied: mpmath>=0.19 in /usr/local/lib/python3.10/dist-packages (from sympy>=1.1.0->nacal) (1.3.0)\n"
          ]
        }
      ]
    },
    {
      "cell_type": "code",
      "source": [
        "A = Matrix([[7,9,9],[2,3,9]])\n"
      ],
      "metadata": {
        "id": "59VnfMtNitLf"
      },
      "execution_count": null,
      "outputs": []
    },
    {
      "cell_type": "code",
      "source": [
        "b = Vector([7,6,3],[2,3,5])"
      ],
      "metadata": {
        "id": "xpTb93I0kA5E"
      },
      "execution_count": null,
      "outputs": []
    },
    {
      "cell_type": "code",
      "source": [
        "c = Vector([7,7,9],[2,9,1])"
      ],
      "metadata": {
        "id": "6i3TqFZXjLMk"
      },
      "execution_count": null,
      "outputs": []
    },
    {
      "cell_type": "code",
      "source": [
        "t = A*(b + c)\n",
        "t"
      ],
      "metadata": {
        "colab": {
          "base_uri": "https://localhost:8080/",
          "height": 46
        },
        "id": "R6Tq9IivnSWr",
        "outputId": "f6e5e2db-13ae-4686-d4bf-a35a0b042534"
      },
      "execution_count": null,
      "outputs": [
        {
          "output_type": "execute_result",
          "data": {
            "text/plain": [
              "Vector([323, 175])"
            ],
            "text/html": [
              "<p style=\"text-align:center;\">$\\begin{pmatrix}323\\\\ 175\\end{pmatrix}$</p>"
            ],
            "image/png": "$\\begin{pmatrix}323\\\\ 175\\end{pmatrix}$",
            "text/latex": "$\\begin{pmatrix}323\\\\ 175\\end{pmatrix}$"
          },
          "metadata": {},
          "execution_count": 127
        }
      ]
    },
    {
      "cell_type": "markdown",
      "source": [
        "$\\begin{pmatrix}323\\\\ 175\\end{pmatrix}$"
      ],
      "metadata": {
        "id": "-CTP9i4on1z2"
      }
    },
    {
      "cell_type": "code",
      "source": [
        "e = A*b + A*c\n",
        "e"
      ],
      "metadata": {
        "colab": {
          "base_uri": "https://localhost:8080/",
          "height": 46
        },
        "id": "IsWgQ-K1n4p9",
        "outputId": "c35b2124-bb2d-4b3e-e901-6623aee6ec18"
      },
      "execution_count": null,
      "outputs": [
        {
          "output_type": "execute_result",
          "data": {
            "text/plain": [
              "Vector([323, 175])"
            ],
            "text/html": [
              "<p style=\"text-align:center;\">$\\begin{pmatrix}323\\\\ 175\\end{pmatrix}$</p>"
            ],
            "image/png": "$\\begin{pmatrix}323\\\\ 175\\end{pmatrix}$",
            "text/latex": "$\\begin{pmatrix}323\\\\ 175\\end{pmatrix}$"
          },
          "metadata": {},
          "execution_count": 155
        }
      ]
    },
    {
      "cell_type": "markdown",
      "source": [
        "$\\begin{pmatrix}323\\\\ 175\\end{pmatrix}$"
      ],
      "metadata": {
        "id": "Qxc53dp8q5oq"
      }
    },
    {
      "cell_type": "code",
      "source": [
        "!pip install --target=$nb_path nacal\n",
        "from nacal import *"
      ],
      "metadata": {
        "colab": {
          "base_uri": "https://localhost:8080/"
        },
        "id": "qfEQhKpusW6u",
        "outputId": "3893f5a8-63b6-4aba-8efa-e0139b7fa77c"
      },
      "execution_count": null,
      "outputs": [
        {
          "output_type": "stream",
          "name": "stdout",
          "text": [
            "Requirement already satisfied: nacal in /usr/local/lib/python3.10/dist-packages (0.1.30)\n",
            "Requirement already satisfied: sympy>=1.1.0 in /usr/local/lib/python3.10/dist-packages (from nacal) (1.12)\n",
            "Requirement already satisfied: mpmath>=0.19 in /usr/local/lib/python3.10/dist-packages (from sympy>=1.1.0->nacal) (1.3.0)\n"
          ]
        }
      ]
    },
    {
      "cell_type": "code",
      "source": [
        "lmbda=7"
      ],
      "metadata": {
        "id": "rCjGDYl-oxwy"
      },
      "execution_count": null,
      "outputs": []
    },
    {
      "cell_type": "code",
      "source": [
        "import numpy as np\n"
      ],
      "metadata": {
        "id": "qfXsXfyHVezI"
      },
      "execution_count": null,
      "outputs": []
    },
    {
      "cell_type": "code",
      "source": [
        "A = np.array(([1,9],[7,7]))"
      ],
      "metadata": {
        "id": "I-fXhacPTtGe"
      },
      "execution_count": null,
      "outputs": []
    },
    {
      "cell_type": "code",
      "source": [
        "b = np.array([1,9])"
      ],
      "metadata": {
        "id": "FH3OmCPZtnbY"
      },
      "execution_count": null,
      "outputs": []
    },
    {
      "cell_type": "code",
      "source": [
        "izquierda = A.dot(lmbda*b)"
      ],
      "metadata": {
        "id": "dkc8C-36h2JH"
      },
      "execution_count": null,
      "outputs": []
    },
    {
      "cell_type": "code",
      "source": [
        "derecha =  lmbda * A.dot(b)\n"
      ],
      "metadata": {
        "id": "OEQVrokviMmP"
      },
      "execution_count": null,
      "outputs": []
    },
    {
      "cell_type": "code",
      "source": [
        "if np.array_equal(izquierda, derecha):\n",
        "    print(\"La propiedad A(λb) = λ(Ab) se cumple.\")\n",
        "    print(\"Resultado izquierdo:\", izquierda)\n",
        "    print(\"Resultado derecho:\", derecha)\n",
        "else:\n",
        "    print(\"La propiedad A(λb) = λ(Ab) no se cumple.\")\n",
        "    print(\"Resultado izquierdo:\", izquierda)\n",
        "    print(\"Resultado derecho:\", derecha)"
      ],
      "metadata": {
        "colab": {
          "base_uri": "https://localhost:8080/"
        },
        "id": "Z9BIKU6FkzIy",
        "outputId": "0e67446b-2d60-487c-d997-4174d54a0680"
      },
      "execution_count": null,
      "outputs": [
        {
          "output_type": "stream",
          "name": "stdout",
          "text": [
            "La propiedad A(λb) = λ(Ab) se cumple.\n",
            "Resultado izquierdo: 574\n",
            "Resultado derecho: 574\n"
          ]
        }
      ]
    },
    {
      "cell_type": "code",
      "source": [
        "import numpy as np"
      ],
      "metadata": {
        "id": "Rr63ffW-llBN"
      },
      "execution_count": null,
      "outputs": []
    },
    {
      "cell_type": "code",
      "source": [
        "A = np.array(([1,9],[7,7]))"
      ],
      "metadata": {
        "id": "2xeSzB3Gls-m"
      },
      "execution_count": null,
      "outputs": []
    },
    {
      "cell_type": "code",
      "source": [
        "b = np.array([1,9])"
      ],
      "metadata": {
        "id": "dl3ZyOAql1dC"
      },
      "execution_count": null,
      "outputs": []
    },
    {
      "cell_type": "code",
      "source": [
        "resultado_sin_parentesis = lmbda * A.dot(b)\n"
      ],
      "metadata": {
        "id": "sqbIiukAWDBr"
      },
      "execution_count": null,
      "outputs": []
    },
    {
      "cell_type": "code",
      "source": [
        "resultado_con_parentesis = (lmbda * A).dot(b)"
      ],
      "metadata": {
        "id": "neQzC3gLW1D-"
      },
      "execution_count": null,
      "outputs": []
    },
    {
      "cell_type": "code",
      "source": [
        "if np.array_equal(resultado_sin_parentesis, resultado_con_parentesis):\n",
        "    print(\"En el caso λAb no son necesarios los paréntesis.\")\n",
        "    print(\"Resultado sin paréntesis:\", resultado_sin_parentesis)\n",
        "    print(\"Resultado con paréntesis:\", resultado_con_parentesis)\n",
        "else:\n",
        "    print(\"En el caso λAb son necesarios los paréntesis.\")\n",
        "    print(\"Resultado sin paréntesis:\", resultado_sin_parentesis)\n",
        "    print(\"Resultado con paréntesis:\", resultado_con_parentesis)"
      ],
      "metadata": {
        "colab": {
          "base_uri": "https://localhost:8080/"
        },
        "id": "9tDlbgZkhI1o",
        "outputId": "1a6fa1e1-1974-4973-c768-7e8fdbc1076b"
      },
      "execution_count": null,
      "outputs": [
        {
          "output_type": "stream",
          "name": "stdout",
          "text": [
            "En el caso λAb no son necesarios los paréntesis.\n",
            "Resultado sin paréntesis: 574\n",
            "Resultado con paréntesis: 574\n"
          ]
        }
      ]
    },
    {
      "cell_type": "code",
      "source": [
        "!pip install --target=$nb_path nacal\n",
        "from nacal import *"
      ],
      "metadata": {
        "colab": {
          "base_uri": "https://localhost:8080/"
        },
        "id": "s8BSoDLnf9SS",
        "outputId": "e667ed64-2d0a-4965-a4b9-838b66ee60d9"
      },
      "execution_count": null,
      "outputs": [
        {
          "output_type": "stream",
          "name": "stdout",
          "text": [
            "Requirement already satisfied: nacal in /usr/local/lib/python3.10/dist-packages (0.1.30)\n",
            "Requirement already satisfied: sympy>=1.1.0 in /usr/local/lib/python3.10/dist-packages (from nacal) (1.12)\n",
            "Requirement already satisfied: mpmath>=0.19 in /usr/local/lib/python3.10/dist-packages (from sympy>=1.1.0->nacal) (1.3.0)\n"
          ]
        }
      ]
    },
    {
      "cell_type": "code",
      "source": [
        "import numpy as np\n"
      ],
      "metadata": {
        "id": "C-OwCJXDq26Q"
      },
      "execution_count": null,
      "outputs": []
    },
    {
      "cell_type": "code",
      "source": [
        "import numpy as np\n",
        "\n",
        "# Definir las dimensiones de la matriz B\n",
        "num_filas = 3\n",
        "num_columnas = 3\n",
        "\n",
        "# Generar una matriz B del mismo orden que A con valores aleatorios\n",
        "B = np.random.randint(1, 10, size=(num_filas, num_columnas))\n",
        "\n",
        "# Mostrar la matriz B\n",
        "print(\"Matriz B:\")\n",
        "print(B)\n"
      ],
      "metadata": {
        "colab": {
          "base_uri": "https://localhost:8080/"
        },
        "id": "lh6WAHKYvmQF",
        "outputId": "aee9cc0c-093b-4869-996f-00f125a8ba5c"
      },
      "execution_count": null,
      "outputs": [
        {
          "output_type": "stream",
          "name": "stdout",
          "text": [
            "Matriz B:\n",
            "[[1 3 5]\n",
            " [1 2 8]\n",
            " [7 7 4]]\n"
          ]
        }
      ]
    },
    {
      "cell_type": "code",
      "source": [
        "import numpy as np\n",
        "\n",
        "# Definir la matriz A, la matriz B y el vector c\n",
        "A = np.array([[1, 2, 3],\n",
        "              [7, 10, 6],\n",
        "              [7, 8, 9]])\n",
        "\n",
        "B = np.array([[1, 3, 5],\n",
        "              [1, 2, 8],\n",
        "              [7, 7, 4]])\n",
        "\n",
        "c = np.array([2, 3, 4])"
      ],
      "metadata": {
        "id": "N_ZnPGrI5Q00"
      },
      "execution_count": null,
      "outputs": []
    },
    {
      "cell_type": "code",
      "source": [
        "izquierda = (A + B).dot(c)"
      ],
      "metadata": {
        "id": "sBmgRrYb60Y4"
      },
      "execution_count": null,
      "outputs": []
    },
    {
      "cell_type": "code",
      "source": [
        "derecha = A.dot(c) + B.dot(c)"
      ],
      "metadata": {
        "id": "76jKxMf466vy"
      },
      "execution_count": null,
      "outputs": []
    },
    {
      "cell_type": "code",
      "source": [
        "if np.array_equal(izquierda, derecha):\n",
        "    print(\"La propiedad (A+B)c = Ac + Bc se cumple.\")\n",
        "    print(\"Resultado izquierdo:\", izquierda)\n",
        "    print(\"Resultado derecho:\", derecha)\n",
        "else:\n",
        "    print(\"La propiedad (A+B)c = Ac + Bc no se cumple.\")\n",
        "    print(\"Resultado izquierdo:\", izquierda)\n",
        "    print(\"Resultado derecho:\", derecha)"
      ],
      "metadata": {
        "colab": {
          "base_uri": "https://localhost:8080/"
        },
        "id": "4KUmqEy07C2a",
        "outputId": "28f4a52f-c5ec-4d02-9ac7-996b76c016e0"
      },
      "execution_count": null,
      "outputs": [
        {
          "output_type": "stream",
          "name": "stdout",
          "text": [
            "La propiedad (A+B)c = Ac + Bc se cumple.\n",
            "Resultado izquierdo: [ 51 108 125]\n",
            "Resultado derecho: [ 51 108 125]\n"
          ]
        }
      ]
    },
    {
      "cell_type": "code",
      "source": [
        "A = np.array([[1, 2, 3],\n",
        "              [4, 5, 6],\n",
        "              [7, 8, 9]])\n",
        "\n",
        "B = np.array([[1, 3, 5],\n",
        "              [1, 2, 8],\n",
        "              [7, 7, 4]])\n",
        "\n",
        "c = np.array([2, 3, 4])\n",
        "\n",
        "\n",
        "parte_izquierda_sin_parentesis = (A + B).dot(c)\n",
        "\n",
        "print(\"Parte izquierda de la ecuación sin paréntesis adicionales:\")\n",
        "print(parte_izquierda_sin_parentesis)"
      ],
      "metadata": {
        "colab": {
          "base_uri": "https://localhost:8080/"
        },
        "id": "WCCO8Hnx7Oy9",
        "outputId": "9709ab16-aa14-43ce-a368-77fd13b2af1e"
      },
      "execution_count": null,
      "outputs": [
        {
          "output_type": "stream",
          "name": "stdout",
          "text": [
            "Parte izquierda de la ecuación sin paréntesis adicionales:\n",
            "[ 51  87 125]\n"
          ]
        }
      ]
    },
    {
      "cell_type": "code",
      "source": [
        "import numpy as np\n",
        "\n",
        "\n",
        "A = np.array([[1, 2, 3],\n",
        "              [4, 5, 6],\n",
        "              [7, 8, 9]])\n",
        "\n",
        "B = np.array([[1, 3, 5],\n",
        "              [1, 2, 8],\n",
        "              [7, 7, 4]])\n"
      ],
      "metadata": {
        "id": "HA0bs5Lj7s7j"
      },
      "execution_count": null,
      "outputs": []
    },
    {
      "cell_type": "code",
      "source": [
        "parte_izquierda = (A + B).T"
      ],
      "metadata": {
        "id": "0FIRsFoY7_58"
      },
      "execution_count": null,
      "outputs": []
    },
    {
      "cell_type": "code",
      "source": [
        "parte_derecha = A.T + B.T\n",
        "if np.array_equal(parte_izquierda, parte_derecha):\n",
        "    print(\"La propiedad (A + B)^T = A^T + B^T se cumple.\")\n",
        "    print(\"Resultado izquierdo:\", parte_izquierda)\n",
        "    print(\"Resultado derecho:\", parte_derecha)\n",
        "else:\n",
        "    print(\"La propiedad (A + B)^T = A^T + B^T no se cumple.\")\n",
        "    print(\"Resultado izquierdo:\", parte_izquierda)\n",
        "    print(\"Resultado derecho:\", parte_derecha)"
      ],
      "metadata": {
        "colab": {
          "base_uri": "https://localhost:8080/"
        },
        "id": "xOulngEg8ce8",
        "outputId": "ee5c214e-da88-442f-f33a-c67ba5a4b922"
      },
      "execution_count": null,
      "outputs": [
        {
          "output_type": "stream",
          "name": "stdout",
          "text": [
            "La propiedad (A + B)^T = A^T + B^T se cumple.\n",
            "Resultado izquierdo: [[ 2  5 14]\n",
            " [ 5  7 15]\n",
            " [ 8 14 13]]\n",
            "Resultado derecho: [[ 2  5 14]\n",
            " [ 5  7 15]\n",
            " [ 8 14 13]]\n"
          ]
        }
      ]
    },
    {
      "cell_type": "code",
      "source": [
        "A = np.array([[1, 2, 3],\n",
        "              [4, 5, 6],\n",
        "              [7, 8, 9]])\n",
        "\n",
        "B = np.array([[1, 3, 5],\n",
        "              [1, 2, 8],\n",
        "              [7, 7, 4]])\n",
        "\n",
        "parte_izquierda_sin_parentesis = (A + B).T\n",
        "\n",
        "parte_derecha_sin_parentesis = A.T + B.T\n",
        "\n",
        "if np.array_equal(parte_izquierda_sin_parentesis, parte_derecha_sin_parentesis):\n",
        "    print(\"No son necesarios paréntesis adicionales para ambos lados de la ecuación.\")\n",
        "    print(\"Resultado izquierdo:\", parte_izquierda_sin_parentesis)\n",
        "    print(\"Resultado derecho:\", parte_derecha_sin_parentesis)\n",
        "else:\n",
        "    print(\"Los paréntesis adicionales son necesarios para al menos uno de los lados de la ecuación.\")\n",
        "    print(\"Resultado izquierdo:\", parte_izquierda_sin_parentesis)\n",
        "    print(\"Resultado derecho:\", parte_derecha_sin_parentesis)\n"
      ],
      "metadata": {
        "colab": {
          "base_uri": "https://localhost:8080/"
        },
        "id": "O9Bmv-_P8tDm",
        "outputId": "84037fde-9000-48fd-83cb-43633801743f"
      },
      "execution_count": null,
      "outputs": [
        {
          "output_type": "stream",
          "name": "stdout",
          "text": [
            "No son necesarios paréntesis adicionales para ambos lados de la ecuación.\n",
            "Resultado izquierdo: [[ 2  5 14]\n",
            " [ 5  7 15]\n",
            " [ 8 14 13]]\n",
            "Resultado derecho: [[ 2  5 14]\n",
            " [ 5  7 15]\n",
            " [ 8 14 13]]\n"
          ]
        }
      ]
    },
    {
      "cell_type": "code",
      "source": [
        "\n",
        "lmbda = 7\n",
        "\n",
        "A = np.array(([1,9],[7,7]))"
      ],
      "metadata": {
        "id": "ga1ySm0d9EX1"
      },
      "execution_count": null,
      "outputs": []
    },
    {
      "cell_type": "code",
      "source": [
        "lado_izquierdo = (lmbda * A).T"
      ],
      "metadata": {
        "id": "JvoW9UNS9rmz"
      },
      "execution_count": null,
      "outputs": []
    },
    {
      "cell_type": "code",
      "source": [
        "lado_derecho = lmbda * A.T\n",
        "if np.array_equal(lado_izquierdo, lado_derecho):\n",
        "    print(\"La propiedad (λA)^T = λ(A^T) se cumple.\")\n",
        "    print(\"Resultado izquierdo:\", lado_izquierdo)\n",
        "    print(\"Resultado derecho:\", lado_derecho)\n",
        "else:\n",
        "    print(\"La propiedad (λA)^T = λ(A^T) no se cumple.\")\n",
        "    print(\"Resultado izquierdo:\", lado_izquierdo)\n",
        "    print(\"Resultado derecho:\", lado_derecho)"
      ],
      "metadata": {
        "colab": {
          "base_uri": "https://localhost:8080/"
        },
        "id": "rsJ3pgkj9yf_",
        "outputId": "37e19fa4-55cc-401b-e319-166b2c990210"
      },
      "execution_count": null,
      "outputs": [
        {
          "output_type": "stream",
          "name": "stdout",
          "text": [
            "La propiedad (λA)^T = λ(A^T) se cumple.\n",
            "Resultado izquierdo: [[ 7 49]\n",
            " [63 49]]\n",
            "Resultado derecho: [[ 7 49]\n",
            " [63 49]]\n"
          ]
        }
      ]
    }
  ]
}