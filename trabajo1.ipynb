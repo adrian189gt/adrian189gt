{
  "cells": [
    {
      "cell_type": "markdown",
      "metadata": {
        "id": "view-in-github",
        "colab_type": "text"
      },
      "source": [
        "<a href=\"https://colab.research.google.com/github/adrian189gt/adrian189gt/blob/ejercicios-del-libro/trabajo1.ipynb\" target=\"_parent\"><img src=\"https://colab.research.google.com/assets/colab-badge.svg\" alt=\"Open In Colab\"/></a>"
      ]
    },
    {
      "cell_type": "code",
      "source": [
        "!pip install --target=$nb_path nacal\n",
        "from nacal import *"
      ],
      "metadata": {
        "colab": {
          "base_uri": "https://localhost:8080/"
        },
        "id": "ZQM0PSET6wWK",
        "outputId": "3f096b25-c017-4437-ba7b-4509a823486a"
      },
      "execution_count": null,
      "outputs": [
        {
          "output_type": "stream",
          "name": "stdout",
          "text": [
            "Collecting nacal\n",
            "  Downloading nacal-0.1.30-py3-none-any.whl (33 kB)\n",
            "Requirement already satisfied: sympy>=1.1.0 in /usr/local/lib/python3.10/dist-packages (from nacal) (1.12)\n",
            "Requirement already satisfied: mpmath>=0.19 in /usr/local/lib/python3.10/dist-packages (from sympy>=1.1.0->nacal) (1.3.0)\n",
            "Installing collected packages: nacal\n",
            "Successfully installed nacal-0.1.30\n"
          ]
        }
      ]
    },
    {
      "cell_type": "markdown",
      "source": [],
      "metadata": {
        "id": "qB1OF3tJKNm_"
      }
    },
    {
      "cell_type": "markdown",
      "source": [
        "¿Es verdad que\n",
        "$$\n",
        "\\begin{bmatrix}\n",
        " 1\\\\2\n",
        " \\\\3\n",
        "\\end{bmatrix}\n",
        "+\n",
        "\\begin{bmatrix}\n",
        " 4\\\\5\n",
        " \\\\6\n",
        "\\end{bmatrix}\n",
        "=\n",
        "\\begin{bmatrix}\n",
        " 4\\\\5\n",
        " \\\\6\n",
        "\\end{bmatrix}\n",
        "+\n",
        "\\begin{bmatrix}\n",
        "1\\\\2\n",
        " \\\\3\n",
        "\\end{bmatrix}\n",
        "=\n",
        "\\begin{bmatrix}\n",
        "5\\\\7\n",
        " \\\\9\n",
        "\\end{bmatrix}\n",
        "$$\n",
        "¿también se verificarán estas propiedades cuando operamos\n",
        "con vectores? si es verdad"
      ],
      "metadata": {
        "id": "08FbFc62KSj0"
      }
    },
    {
      "cell_type": "code",
      "source": [
        "a = Vector( [1,2,3] )\n",
        "b = Vector( [4,5,6] )\n",
        "b = a + b\n",
        "\n",
        "b"
      ],
      "metadata": {
        "colab": {
          "base_uri": "https://localhost:8080/",
          "height": 46
        },
        "id": "xU7oYNrU8K32",
        "outputId": "bc48948a-edd7-4519-a5cb-532b39374626"
      },
      "execution_count": null,
      "outputs": [
        {
          "output_type": "execute_result",
          "data": {
            "text/plain": [
              "Vector([5, 7, 9])"
            ],
            "text/html": [
              "<p style=\"text-align:center;\">$\\begin{pmatrix}5\\\\ 7\\\\ 9\\end{pmatrix}$</p>"
            ],
            "image/png": "$\\begin{pmatrix}5\\\\ 7\\\\ 9\\end{pmatrix}$",
            "text/latex": "$\\begin{pmatrix}5\\\\ 7\\\\ 9\\end{pmatrix}$"
          },
          "metadata": {},
          "execution_count": 2
        }
      ]
    },
    {
      "cell_type": "markdown",
      "source": [],
      "metadata": {
        "id": "9QZR1_3QHUYd"
      }
    },
    {
      "cell_type": "markdown",
      "source": [
        "es una regla general para cualquier par de vectores\n",
        "$$\n",
        "\\begin{bmatrix}\n",
        " 1\\\\2\n",
        "\\end{bmatrix}\n",
        "+\\left (\n",
        "\\begin{bmatrix}\n",
        " 4\\\\5\n",
        "\\end{bmatrix}\n",
        "+\n",
        "\\begin{bmatrix}\n",
        "1\\\\0\n",
        "\\end{bmatrix}\n",
        "\\right )\n",
        "=\\left (\n",
        "  \\begin{bmatrix}\n",
        "1\\\\2\n",
        "\\end{bmatrix}\n",
        "+\n",
        "\\begin{bmatrix}\n",
        "4\\\\5\n",
        "\\end{bmatrix}\n",
        "\\right )\n",
        "+\n",
        "\\begin{bmatrix}\n",
        "1\\\\0\n",
        "\\end{bmatrix}\n",
        "$$"
      ],
      "metadata": {
        "id": "z3Q1gBUpPsV5"
      }
    },
    {
      "cell_type": "code",
      "source": [
        "a = Vector([1,2])\n",
        "b = Vector([4,5])\n",
        "c = Vector([1,0])"
      ],
      "metadata": {
        "id": "CieXdcSYBIeF"
      },
      "execution_count": null,
      "outputs": []
    },
    {
      "cell_type": "markdown",
      "source": [
        "$\\begin{pmatrix}5\\\\ 7\\\\ 9\\end{pmatrix}$"
      ],
      "metadata": {
        "id": "03OkEDzIHLis"
      }
    },
    {
      "cell_type": "code",
      "source": [
        "intermedio = b + c\n",
        "final = a + intermedio\n",
        "print(final)"
      ],
      "metadata": {
        "colab": {
          "base_uri": "https://localhost:8080/"
        },
        "id": "lQfTzMzLAgiG",
        "outputId": "7ece806d-745f-4005-9e34-07f78079e091"
      },
      "execution_count": null,
      "outputs": [
        {
          "output_type": "stream",
          "name": "stdout",
          "text": [
            "Vector([6, 7])\n"
          ]
        }
      ]
    },
    {
      "cell_type": "markdown",
      "source": [
        "es una regla general para cualquier trío de vectores\n",
        "$$\n",
        "\\begin{bmatrix}\n",
        " 4\\\\5\n",
        " \\\\6\n",
        "\\end{bmatrix}\n",
        "+\n",
        "\\begin{bmatrix}\n",
        " 0\\\\0\n",
        " \\\\0\n",
        "\\end{bmatrix}\n",
        "=\n",
        "\\begin{bmatrix}\n",
        " 4\\\\5\n",
        " \\\\6\n",
        "\\end{bmatrix}\n",
        "$$"
      ],
      "metadata": {
        "id": "g9D_J-pjVXxo"
      }
    },
    {
      "cell_type": "code",
      "source": [
        "a = Vector([4,5,6])\n",
        "b = Vector([0,0,0])\n",
        "b = a + b\n",
        "b"
      ],
      "metadata": {
        "colab": {
          "base_uri": "https://localhost:8080/",
          "height": 46
        },
        "id": "QPRcsU-jTCeP",
        "outputId": "862d6dc2-4aa7-461b-fde1-5ed0ea9a18ff"
      },
      "execution_count": null,
      "outputs": [
        {
          "output_type": "execute_result",
          "data": {
            "text/plain": [
              "Vector([4, 5, 6])"
            ],
            "text/html": [
              "<p style=\"text-align:center;\">$\\begin{pmatrix}4\\\\ 5\\\\ 6\\end{pmatrix}$</p>"
            ],
            "image/png": "$\\begin{pmatrix}4\\\\ 5\\\\ 6\\end{pmatrix}$",
            "text/latex": "$\\begin{pmatrix}4\\\\ 5\\\\ 6\\end{pmatrix}$"
          },
          "metadata": {},
          "execution_count": 4
        }
      ]
    },
    {
      "cell_type": "markdown",
      "source": [
        "$\\begin{pmatrix}4\\\\ 5\\\\ 6\\end{pmatrix}$"
      ],
      "metadata": {
        "id": "IP-IxDZMWYgu"
      }
    },
    {
      "cell_type": "markdown",
      "source": [
        "es una regla general para cualquier par de vectores\n",
        "$$\n",
        "\\begin{bmatrix}\n",
        " 4\\\\5\n",
        " \\\\6\n",
        "\\end{bmatrix}\n",
        "+\n",
        "\\begin{bmatrix}\n",
        " -4\\\\-5\n",
        " \\\\-6\n",
        "\\end{bmatrix}\n",
        "=\n",
        "\\begin{bmatrix}\n",
        " 0\\\\0\n",
        " \\\\0\n",
        "\\end{bmatrix}\n",
        "$$"
      ],
      "metadata": {
        "id": "tswtxM8HYClP"
      }
    },
    {
      "cell_type": "code",
      "source": [
        "a = Vector([4,5,6])\n",
        "b = Vector([-4,-5,-6])\n",
        "b = a + b\n",
        "b"
      ],
      "metadata": {
        "colab": {
          "base_uri": "https://localhost:8080/",
          "height": 46
        },
        "id": "TTdZYiqiWZKG",
        "outputId": "3cb2c981-0131-4fb5-e8d6-ccfcd5696ffa"
      },
      "execution_count": null,
      "outputs": [
        {
          "output_type": "execute_result",
          "data": {
            "text/plain": [
              "Vector([0, 0, 0])"
            ],
            "text/html": [
              "<p style=\"text-align:center;\">$\\begin{pmatrix}0\\\\ 0\\\\ 0\\end{pmatrix}$</p>"
            ],
            "image/png": "$\\begin{pmatrix}0\\\\ 0\\\\ 0\\end{pmatrix}$",
            "text/latex": "$\\begin{pmatrix}0\\\\ 0\\\\ 0\\end{pmatrix}$"
          },
          "metadata": {},
          "execution_count": 5
        }
      ]
    },
    {
      "cell_type": "markdown",
      "source": [
        "$\\begin{pmatrix}0\\\\ 0\\\\ 0\\end{pmatrix}$"
      ],
      "metadata": {
        "id": "jHwQqIv5YAz7"
      }
    },
    {
      "cell_type": "markdown",
      "source": [
        "es una regla general para cualquier par de vectores\n",
        "$$\n",
        "2\n",
        "\\left (\n",
        "  \\begin{bmatrix}\n",
        " 1\\\\-1\n",
        "\\end{bmatrix}\n",
        "+\\begin{bmatrix}\n",
        " 4\\\\5\n",
        "\\end{bmatrix}\n",
        " \\right )\n",
        " =\n",
        " 2\n",
        " \\begin{bmatrix}\n",
        " 1\\\\-1\n",
        "\\end{bmatrix}\n",
        "+\n",
        "2\n",
        "\\begin{bmatrix}\n",
        " 4\\\\5\n",
        "\\end{bmatrix}\n",
        " $$"
      ],
      "metadata": {
        "id": "5S6C3EQIdF0p"
      }
    },
    {
      "cell_type": "code",
      "source": [
        "a = 2\n",
        "b = Vector([1,-1])\n",
        "c = Vector([4,5])\n",
        "h = a * (b + c)\n",
        "h"
      ],
      "metadata": {
        "colab": {
          "base_uri": "https://localhost:8080/",
          "height": 46
        },
        "id": "LVZL39EnY0Qq",
        "outputId": "7be55b38-3dd5-40fa-804f-7cc41f5b39a4"
      },
      "execution_count": null,
      "outputs": [
        {
          "output_type": "execute_result",
          "data": {
            "text/plain": [
              "Vector([10, 8])"
            ],
            "text/html": [
              "<p style=\"text-align:center;\">$\\begin{pmatrix}10\\\\ 8\\end{pmatrix}$</p>"
            ],
            "image/png": "$\\begin{pmatrix}10\\\\ 8\\end{pmatrix}$",
            "text/latex": "$\\begin{pmatrix}10\\\\ 8\\end{pmatrix}$"
          },
          "metadata": {},
          "execution_count": 6
        }
      ]
    },
    {
      "cell_type": "markdown",
      "source": [
        "$\\begin{pmatrix}10\\\\ 8\\end{pmatrix}$"
      ],
      "metadata": {
        "id": "6nyCD1wZ_eGF"
      }
    },
    {
      "cell_type": "code",
      "source": [
        "intermedio = b + c\n",
        "final = intermedio * a\n",
        "print(final)"
      ],
      "metadata": {
        "colab": {
          "base_uri": "https://localhost:8080/"
        },
        "id": "D2AU_Pd1aLI5",
        "outputId": "126cd95e-8c43-4f0f-abe3-2b18b1676f31"
      },
      "execution_count": null,
      "outputs": [
        {
          "output_type": "stream",
          "name": "stdout",
          "text": [
            "Vector([10, 8])\n"
          ]
        }
      ]
    },
    {
      "cell_type": "markdown",
      "source": [
        "Es una regla general para\n",
        "cualquier par de vectores\n",
        "$$\n",
        "\\left ( \\begin{bmatrix}\n",
        " 2+3  \\\\\n",
        "\\end{bmatrix}\n",
        "   \\right )\n",
        "   +\n",
        "   \\begin{bmatrix}\n",
        " 1\\\\2\n",
        " \\\\3\n",
        "\\end{bmatrix}\n",
        "=\n",
        "2\n",
        "\\begin{bmatrix}\n",
        " 1\\\\2\n",
        " \\\\3\n",
        "\\end{bmatrix}\n",
        "+2\n",
        "\\begin{bmatrix}\n",
        " 1\\\\2\n",
        " \\\\3\n",
        "\\end{bmatrix}\n",
        "   $$"
      ],
      "metadata": {
        "id": "iQGGcwx5_oMN"
      }
    },
    {
      "cell_type": "code",
      "source": [
        "a = 2+3\n",
        "b = Vector([1,2,3])\n",
        "h = a * b\n",
        "h"
      ],
      "metadata": {
        "colab": {
          "base_uri": "https://localhost:8080/",
          "height": 46
        },
        "id": "-ioobT5qgokm",
        "outputId": "42e4c04c-2c92-4e2a-cfb3-1eeab2d1191c"
      },
      "execution_count": null,
      "outputs": [
        {
          "output_type": "execute_result",
          "data": {
            "text/plain": [
              "Vector([5, 10, 15])"
            ],
            "text/html": [
              "<p style=\"text-align:center;\">$\\begin{pmatrix}5\\\\ 10\\\\ 15\\end{pmatrix}$</p>"
            ],
            "image/png": "$\\begin{pmatrix}5\\\\ 10\\\\ 15\\end{pmatrix}$",
            "text/latex": "$\\begin{pmatrix}5\\\\ 10\\\\ 15\\end{pmatrix}$"
          },
          "metadata": {},
          "execution_count": 8
        }
      ]
    },
    {
      "cell_type": "markdown",
      "source": [
        "$\\begin{pmatrix}5\\\\ 10\\\\ 15\\end{pmatrix}$"
      ],
      "metadata": {
        "id": "D_FXDXI4i-I6"
      }
    },
    {
      "cell_type": "markdown",
      "source": [
        "$$"
      ],
      "metadata": {
        "id": "jVJkdMZiBXNL"
      }
    },
    {
      "cell_type": "markdown",
      "source": [
        "Es una regla general para\n",
        "cualquier par de vectores\n",
        "$$\n",
        "2\n",
        "\\left (3\n",
        "\\begin{bmatrix}\n",
        " 1\\\\2\n",
        " \\\\\n",
        "\\end{bmatrix}\n",
        "\\right )\n",
        "=\n",
        "\\left (  2 * 3\\right )\n",
        "*\n",
        "\\begin{bmatrix}\n",
        " 1\\\\2\n",
        " \\\\\n",
        "\\end{bmatrix}\n",
        "$$"
      ],
      "metadata": {
        "id": "JjiLWO7TBttd"
      }
    },
    {
      "cell_type": "code",
      "source": [
        "a = 3 * 2\n",
        "b = Vector([1,2,])\n",
        "h = a * b\n",
        "h"
      ],
      "metadata": {
        "colab": {
          "base_uri": "https://localhost:8080/",
          "height": 46
        },
        "id": "GeYFlL8vkVWe",
        "outputId": "097f23f9-5061-46e9-f4d5-218388743322"
      },
      "execution_count": null,
      "outputs": [
        {
          "output_type": "execute_result",
          "data": {
            "text/plain": [
              "Vector([6, 12])"
            ],
            "text/html": [
              "<p style=\"text-align:center;\">$\\begin{pmatrix}6\\\\ 12\\end{pmatrix}$</p>"
            ],
            "image/png": "$\\begin{pmatrix}6\\\\ 12\\end{pmatrix}$",
            "text/latex": "$\\begin{pmatrix}6\\\\ 12\\end{pmatrix}$"
          },
          "metadata": {},
          "execution_count": 9
        }
      ]
    },
    {
      "cell_type": "markdown",
      "source": [
        "$\\begin{pmatrix}6\\\\ 12\\end{pmatrix}$"
      ],
      "metadata": {
        "id": "ejcjstFUug00"
      }
    },
    {
      "cell_type": "markdown",
      "source": [
        "Es cierto solo para el escalar a = 1\n",
        "$$\n",
        "a\n",
        "\\begin{bmatrix}\n",
        " 1\\\\2\n",
        " \\\\3\n",
        "\\end{bmatrix}\n",
        "=\\begin{bmatrix}\n",
        " 1\\\\2\n",
        " \\\\3\n",
        "\\end{bmatrix}\n",
        "$$"
      ],
      "metadata": {
        "id": "9Gkl8OisDAV3"
      }
    },
    {
      "cell_type": "code",
      "source": [
        "a = 1\n",
        "b = Vector([1,2,3])\n",
        "c = a * b\n",
        "c"
      ],
      "metadata": {
        "colab": {
          "base_uri": "https://localhost:8080/",
          "height": 46
        },
        "id": "K7DOmO9wzKbP",
        "outputId": "a511260c-cd9d-4c7a-c512-2025ff809c76"
      },
      "execution_count": null,
      "outputs": [
        {
          "output_type": "execute_result",
          "data": {
            "text/plain": [
              "Vector([1, 2, 3])"
            ],
            "text/html": [
              "<p style=\"text-align:center;\">$\\begin{pmatrix}1\\\\ 2\\\\ 3\\end{pmatrix}$</p>"
            ],
            "image/png": "$\\begin{pmatrix}1\\\\ 2\\\\ 3\\end{pmatrix}$",
            "text/latex": "$\\begin{pmatrix}1\\\\ 2\\\\ 3\\end{pmatrix}$"
          },
          "metadata": {},
          "execution_count": 10
        }
      ]
    },
    {
      "cell_type": "markdown",
      "source": [
        "$\\begin{pmatrix}1\\\\ 2\\\\ 3\\end{pmatrix}$"
      ],
      "metadata": {
        "id": "dJfF57s0zwpx"
      }
    }
  ],
  "metadata": {
    "colab": {
      "provenance": [],
      "include_colab_link": true
    },
    "kernelspec": {
      "display_name": "Python 3",
      "name": "python3"
    }
  },
  "nbformat": 4,
  "nbformat_minor": 0
}