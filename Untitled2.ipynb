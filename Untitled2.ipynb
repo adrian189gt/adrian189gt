{
  "nbformat": 4,
  "nbformat_minor": 0,
  "metadata": {
    "colab": {
      "provenance": [],
      "authorship_tag": "ABX9TyPJ91l+3CpeA/iAo3XP9Ura",
      "include_colab_link": true
    },
    "kernelspec": {
      "name": "python3",
      "display_name": "Python 3"
    },
    "language_info": {
      "name": "python"
    }
  },
  "cells": [
    {
      "cell_type": "markdown",
      "metadata": {
        "id": "view-in-github",
        "colab_type": "text"
      },
      "source": [
        "<a href=\"https://colab.research.google.com/github/adrian189gt/adrian189gt/blob/main/Untitled2.ipynb\" target=\"_parent\"><img src=\"https://colab.research.google.com/assets/colab-badge.svg\" alt=\"Open In Colab\"/></a>"
      ]
    },
    {
      "cell_type": "code",
      "execution_count": 13,
      "metadata": {
        "colab": {
          "base_uri": "https://localhost:8080/"
        },
        "id": "qsNAIR7ovNsk",
        "outputId": "e910b5aa-5334-4423-c8a6-3dd0f918371b"
      },
      "outputs": [
        {
          "output_type": "stream",
          "name": "stdout",
          "text": [
            "Requirement already satisfied: nacal in /usr/local/lib/python3.10/dist-packages (0.1.30)\n",
            "Requirement already satisfied: sympy>=1.1.0 in /usr/local/lib/python3.10/dist-packages (from nacal) (1.12)\n",
            "Requirement already satisfied: mpmath>=0.19 in /usr/local/lib/python3.10/dist-packages (from sympy>=1.1.0->nacal) (1.3.0)\n"
          ]
        }
      ],
      "source": [
        "!pip install --target=$nb_path nacal\n",
        "from nacal import *"
      ]
    },
    {
      "cell_type": "markdown",
      "source": [
        "ejercicio 4\n",
        "\n",
        "\\bigl(\\begin{smallmatrix}\n",
        "3*b|1\\end{smallmatrix}\\bigr)\n",
        "+\n",
        "\\bigl(\\begin{smallmatrix}\n",
        "3*1|b1\\end{smallmatrix}\\bigr)\n",
        "\\bigl(\\begin{smallmatrix}\n",
        "1*3|b\\end{smallmatrix}\\bigr)\n",
        "\\bigl(\\begin{smallmatrix}\n",
        "1|3*b\\end{smallmatrix}\\bigr)\n"
      ],
      "metadata": {
        "id": "ScOfSngqU3dS"
      }
    },
    {
      "cell_type": "code",
      "source": [
        "b = Vector( [0,9,7] )\n",
        "print(\"(a)\")\n",
        "display(latex(latex(3*b|1)))\n",
        "print(\"(b)\")\n",
        "display(latex(latex(3*1|b)))\n",
        "print(\"(c)\")\n",
        "display(latex(latex(1*3|b)))\n",
        "print(\"(d)\")\n",
        "display(latex(latex(1|b*3)))"
      ],
      "metadata": {
        "colab": {
          "base_uri": "https://localhost:8080/",
          "height": 160
        },
        "id": "FJtS2jWSQcQ6",
        "outputId": "a1a92226-b9bd-4019-b16f-a2bcc9cae00f"
      },
      "execution_count": 19,
      "outputs": [
        {
          "output_type": "stream",
          "name": "stdout",
          "text": [
            "(a)\n"
          ]
        },
        {
          "output_type": "display_data",
          "data": {
            "text/plain": [
              "'0'"
            ],
            "application/vnd.google.colaboratory.intrinsic+json": {
              "type": "string"
            }
          },
          "metadata": {}
        },
        {
          "output_type": "stream",
          "name": "stdout",
          "text": [
            "(b)\n"
          ]
        },
        {
          "output_type": "display_data",
          "data": {
            "text/plain": [
              "'7'"
            ],
            "application/vnd.google.colaboratory.intrinsic+json": {
              "type": "string"
            }
          },
          "metadata": {}
        },
        {
          "output_type": "stream",
          "name": "stdout",
          "text": [
            "(c)\n"
          ]
        },
        {
          "output_type": "display_data",
          "data": {
            "text/plain": [
              "'7'"
            ],
            "application/vnd.google.colaboratory.intrinsic+json": {
              "type": "string"
            }
          },
          "metadata": {}
        },
        {
          "output_type": "stream",
          "name": "stdout",
          "text": [
            "(d)\n"
          ]
        },
        {
          "output_type": "display_data",
          "data": {
            "text/plain": [
              "'0'"
            ],
            "application/vnd.google.colaboratory.intrinsic+json": {
              "type": "string"
            }
          },
          "metadata": {}
        }
      ]
    },
    {
      "cell_type": "markdown",
      "source": [
        "\\begin{pmatrix}\n",
        "a\\end{pmatrix}\n",
        "\\begin{pmatrix}\n",
        "0\\end{pmatrix}\n",
        "\\begin{pmatrix}\n",
        "b\\end{pmatrix}\n",
        "\\begin{pmatrix}\n",
        "7\\end{pmatrix}\n",
        "\\begin{pmatrix}\n",
        "d\\end{pmatrix}\n",
        "\\begin{pmatrix}\n",
        "0\\end{pmatrix}\n"
      ],
      "metadata": {
        "id": "JxL1YDRiT8mK"
      }
    },
    {
      "cell_type": "code",
      "source": [
        "from nacal import *\n",
        "from IPython.display import display, Math, Latex\n",
        "\n",
        "d = Vector( [6, 5, 7, 3, 8] )\n",
        "e = Vector( [1, 2, 3, 4, 9] )\n",
        "f = Vector( [9, 10, 14, 12, 15] )\n",
        "b = Matrix([d, e, f])\n",
        "a = Matrix([f, e, d])\n",
        "c = Matrix([e, f, d])\n",
        "display(Latex(latex(b)))\n",
        "display(Latex(latex(a)))"
      ],
      "metadata": {
        "colab": {
          "base_uri": "https://localhost:8080/",
          "height": 220
        },
        "id": "gHuQep5NK7In",
        "outputId": "453b2145-500a-4a0c-d55b-09e60d4489af"
      },
      "execution_count": 29,
      "outputs": [
        {
          "output_type": "display_data",
          "data": {
            "text/plain": [
              "<IPython.core.display.Latex object>"
            ],
            "text/latex": "\\left[ \\begin{array}{ccc}6&1&9\\\\5&2&10\\\\7&3&14\\\\3&4&12\\\\8&9&15\\\\ \\end{array} \\right]"
          },
          "metadata": {}
        },
        {
          "output_type": "display_data",
          "data": {
            "text/plain": [
              "<IPython.core.display.Latex object>"
            ],
            "text/latex": "\\left[ \\begin{array}{ccc}9&1&6\\\\10&2&5\\\\14&3&7\\\\12&4&3\\\\15&9&8\\\\ \\end{array} \\right]"
          },
          "metadata": {}
        }
      ]
    },
    {
      "cell_type": "code",
      "source": [
        "display(Latex(latex(a+b)))\n",
        "display(Latex(latex(b+a)))"
      ],
      "metadata": {
        "colab": {
          "base_uri": "https://localhost:8080/",
          "height": 220
        },
        "id": "8cFjY-pQRmx6",
        "outputId": "32161642-cc40-4f85-932e-1657fcfee279"
      },
      "execution_count": 30,
      "outputs": [
        {
          "output_type": "display_data",
          "data": {
            "text/plain": [
              "<IPython.core.display.Latex object>"
            ],
            "text/latex": "\\left[ \\begin{array}{ccc}15&2&15\\\\15&4&15\\\\21&6&21\\\\15&8&15\\\\23&18&23\\\\ \\end{array} \\right]"
          },
          "metadata": {}
        },
        {
          "output_type": "display_data",
          "data": {
            "text/plain": [
              "<IPython.core.display.Latex object>"
            ],
            "text/latex": "\\left[ \\begin{array}{ccc}15&2&15\\\\15&4&15\\\\21&6&21\\\\15&8&15\\\\23&18&23\\\\ \\end{array} \\right]"
          },
          "metadata": {}
        }
      ]
    },
    {
      "cell_type": "code",
      "source": [
        "display(Latex(latex(a+(b+c))))\n",
        "display(Latex(latex((a+b)+c)))"
      ],
      "metadata": {
        "colab": {
          "base_uri": "https://localhost:8080/",
          "height": 220
        },
        "id": "JVtV389PRwkr",
        "outputId": "df3956a9-3d16-4c35-f8f1-38933e13df24"
      },
      "execution_count": 31,
      "outputs": [
        {
          "output_type": "display_data",
          "data": {
            "text/plain": [
              "<IPython.core.display.Latex object>"
            ],
            "text/latex": "\\left[ \\begin{array}{ccc}16&11&21\\\\17&14&20\\\\24&20&28\\\\19&20&18\\\\32&33&31\\\\ \\end{array} \\right]"
          },
          "metadata": {}
        },
        {
          "output_type": "display_data",
          "data": {
            "text/plain": [
              "<IPython.core.display.Latex object>"
            ],
            "text/latex": "\\left[ \\begin{array}{ccc}16&11&21\\\\17&14&20\\\\24&20&28\\\\19&20&18\\\\32&33&31\\\\ \\end{array} \\right]"
          },
          "metadata": {}
        }
      ]
    },
    {
      "cell_type": "code",
      "source": [
        "display(Latex(latex(0+(1|a|1))))\n",
        "display(Latex(latex(1|a|1)))"
      ],
      "metadata": {
        "colab": {
          "base_uri": "https://localhost:8080/",
          "height": 58
        },
        "id": "o-q4unnhRzgf",
        "outputId": "75e32316-5416-476a-b498-75b9ccc40446"
      },
      "execution_count": 32,
      "outputs": [
        {
          "output_type": "display_data",
          "data": {
            "text/plain": [
              "<IPython.core.display.Latex object>"
            ],
            "text/latex": "9"
          },
          "metadata": {}
        },
        {
          "output_type": "display_data",
          "data": {
            "text/plain": [
              "<IPython.core.display.Latex object>"
            ],
            "text/latex": "9"
          },
          "metadata": {}
        }
      ]
    },
    {
      "cell_type": "code",
      "source": [
        "display(Latex(latex(a+(-a))))"
      ],
      "metadata": {
        "colab": {
          "base_uri": "https://localhost:8080/",
          "height": 119
        },
        "id": "GWCPj-ZLR80U",
        "outputId": "3fc67d40-1790-4a71-e4f9-057c81db0203"
      },
      "execution_count": 24,
      "outputs": [
        {
          "output_type": "display_data",
          "data": {
            "text/plain": [
              "<IPython.core.display.Latex object>"
            ],
            "text/latex": "\\left[ \\begin{array}{ccc}0&0&0\\\\0&0&0\\\\0&0&0\\\\0&0&0\\\\0&0&0\\\\ \\end{array} \\right]"
          },
          "metadata": {}
        }
      ]
    },
    {
      "cell_type": "code",
      "source": [
        "display(Latex(latex(3*(a+b))))\n",
        "display(Latex(latex((3*a)+(3*b))))"
      ],
      "metadata": {
        "colab": {
          "base_uri": "https://localhost:8080/",
          "height": 220
        },
        "id": "9cFdLK0MSCZ-",
        "outputId": "d601fa36-bf6a-403d-d3ef-420cd4d65cfc"
      },
      "execution_count": 33,
      "outputs": [
        {
          "output_type": "display_data",
          "data": {
            "text/plain": [
              "<IPython.core.display.Latex object>"
            ],
            "text/latex": "\\left[ \\begin{array}{ccc}45&6&45\\\\45&12&45\\\\63&18&63\\\\45&24&45\\\\69&54&69\\\\ \\end{array} \\right]"
          },
          "metadata": {}
        },
        {
          "output_type": "display_data",
          "data": {
            "text/plain": [
              "<IPython.core.display.Latex object>"
            ],
            "text/latex": "\\left[ \\begin{array}{ccc}45&6&45\\\\45&12&45\\\\63&18&63\\\\45&24&45\\\\69&54&69\\\\ \\end{array} \\right]"
          },
          "metadata": {}
        }
      ]
    },
    {
      "cell_type": "code",
      "source": [
        "display(Latex(latex((3+2)*a)))\n",
        "display(Latex(latex((3*a)+(2*a))))"
      ],
      "metadata": {
        "colab": {
          "base_uri": "https://localhost:8080/",
          "height": 220
        },
        "id": "YLVsvaTASE-M",
        "outputId": "b2f2a499-4be3-43bf-9ff0-63f46470ae9f"
      },
      "execution_count": 26,
      "outputs": [
        {
          "output_type": "display_data",
          "data": {
            "text/plain": [
              "<IPython.core.display.Latex object>"
            ],
            "text/latex": "\\left[ \\begin{array}{ccc}45&5&20\\\\50&10&25\\\\70&15&30\\\\60&20&15\\\\75&45&40\\\\ \\end{array} \\right]"
          },
          "metadata": {}
        },
        {
          "output_type": "display_data",
          "data": {
            "text/plain": [
              "<IPython.core.display.Latex object>"
            ],
            "text/latex": "\\left[ \\begin{array}{ccc}45&5&20\\\\50&10&25\\\\70&15&30\\\\60&20&15\\\\75&45&40\\\\ \\end{array} \\right]"
          },
          "metadata": {}
        }
      ]
    },
    {
      "cell_type": "code",
      "source": [
        "display(Latex(latex(3*(2*a))))\n",
        "display(Latex(latex((2*3)*a)))"
      ],
      "metadata": {
        "colab": {
          "base_uri": "https://localhost:8080/",
          "height": 220
        },
        "id": "02HFo_8cSOhf",
        "outputId": "ee62a1ac-9e58-43d2-ec1a-3a8efc22658b"
      },
      "execution_count": 27,
      "outputs": [
        {
          "output_type": "display_data",
          "data": {
            "text/plain": [
              "<IPython.core.display.Latex object>"
            ],
            "text/latex": "\\left[ \\begin{array}{ccc}54&6&24\\\\60&12&30\\\\84&18&36\\\\72&24&18\\\\90&54&48\\\\ \\end{array} \\right]"
          },
          "metadata": {}
        },
        {
          "output_type": "display_data",
          "data": {
            "text/plain": [
              "<IPython.core.display.Latex object>"
            ],
            "text/latex": "\\left[ \\begin{array}{ccc}54&6&24\\\\60&12&30\\\\84&18&36\\\\72&24&18\\\\90&54&48\\\\ \\end{array} \\right]"
          },
          "metadata": {}
        }
      ]
    },
    {
      "cell_type": "code",
      "source": [
        "display(Latex(latex(a)))\n",
        "display(Latex(latex(1*a)))"
      ],
      "metadata": {
        "colab": {
          "base_uri": "https://localhost:8080/",
          "height": 220
        },
        "id": "27C4NDH0SYfZ",
        "outputId": "5c1648b0-7ed2-4868-87a7-cf88ffcfc237"
      },
      "execution_count": 28,
      "outputs": [
        {
          "output_type": "display_data",
          "data": {
            "text/plain": [
              "<IPython.core.display.Latex object>"
            ],
            "text/latex": "\\left[ \\begin{array}{ccc}9&1&4\\\\10&2&5\\\\14&3&6\\\\12&4&3\\\\15&9&8\\\\ \\end{array} \\right]"
          },
          "metadata": {}
        },
        {
          "output_type": "display_data",
          "data": {
            "text/plain": [
              "<IPython.core.display.Latex object>"
            ],
            "text/latex": "\\left[ \\begin{array}{ccc}9&1&4\\\\10&2&5\\\\14&3&6\\\\12&4&3\\\\15&9&8\\\\ \\end{array} \\right]"
          },
          "metadata": {}
        }
      ]
    }
  ]
}